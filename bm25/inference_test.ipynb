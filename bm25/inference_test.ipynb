{
 "cells": [
  {
   "cell_type": "code",
   "execution_count": 1,
   "metadata": {},
   "outputs": [],
   "source": [
    "%load_ext autoreload\n",
    "%autoreload 2\n"
   ]
  },
  {
   "cell_type": "code",
   "execution_count": 2,
   "metadata": {},
   "outputs": [],
   "source": [
    "from bm25.bm25 import BM25Search\n",
    "\n",
    "# class BM25Search(BaseSearch): \n",
    "#     # keys - поля в collection (кроме индекса!)\n",
    "#     def __init__(self, index_name: str, hostname: str = \"localhost\", keys: Dict[str, str] =  {\"body\": \"txt\"}, language: str = \"russian\",\n",
    "#                  batch_size: int = 128, timeout: int = 1000, retry_on_timeout: bool = True, maxsize: int = 24, number_of_shards: int = \"default\",\n",
    "#                  initialize: bool = True, sleep_for: int = 2)\n",
    "from bm25.evaluation import EvaluateRetrieval\n",
    "\n",
    "hostname = \"http://localhost:9200\"\n",
    "index_name = \"mmarco\" \n",
    "language = \"russian\"\n",
    "\n",
    "\n",
    "bm25 = BM25Search(index_name=index_name, hostname=hostname, language=language, keys={\"body\":\"text\"})\n",
    "retriever = EvaluateRetrieval(bm25,k_values=[1]) "
   ]
  },
  {
   "cell_type": "code",
   "execution_count": 3,
   "metadata": {},
   "outputs": [],
   "source": [
    "# Create a small test corpus with document IDs and content\n",
    "corpus = {\n",
    "    \"doc1\": {\n",
    "        \"text\": \"Озеро Байкал отличается уникальной флорой. В озере обитает более 2500 видов растений, из которых 1000 являются эндемиками.\"\n",
    "    },\n",
    "    \"doc2\": {\n",
    "        \"text\": \"В водах Байкала обитает множество уникальных животных. Байкальская нерпа и голомянка являются эндемиками озера.\"\n",
    "    },\n",
    "    \"doc3\": {\n",
    "        \"text\": \"Байкал - самое глубокое озеро в мире. Его максимальная глубина достигает 1642 метров, а площадь поверхности составляет 31722 км².\"\n",
    "    }\n",
    "}\n",
    "\n",
    "# Create test queries with query IDs\n",
    "queries = {\n",
    "    \"query1\": \"где находится столица России\",\n",
    "    \"query2\": \"кто основал Санкт-Петербург\",\n",
    "    \"query3\": \"глубокое озеро в мире\",\n",
    "    \"query4\": \"история озера в санкт-петербурге\"\n",
    "}\n",
    "\n",
    "\n"
   ]
  },
  {
   "cell_type": "code",
   "execution_count": 4,
   "metadata": {},
   "outputs": [
    {
     "name": "stderr",
     "output_type": "stream",
     "text": [
      "  0%|          | 0/3 [00:00<?, ?docs/s]\n",
      "que: 100%|██████████| 1/1 [00:00<00:00, 61.69it/s]"
     ]
    },
    {
     "name": "stdout",
     "output_type": "stream",
     "text": [
      "{'query3': {'doc3': 2.462403, 'doc1': 0.593623}, 'query4': {'doc2': 1.1835277, 'doc1': 0.13133836}}\n"
     ]
    },
    {
     "name": "stderr",
     "output_type": "stream",
     "text": [
      "\n"
     ]
    }
   ],
   "source": [
    "results = retriever.retrieve(corpus, queries)\n",
    "\n",
    "print(results) #{'query3': {'doc3': 2.462403, 'doc1': 0.593623, 'doc2': 0.14181954}, 'query4': {'doc2': 1.407097, 'doc1': 0.5128078, 'doc3': 0.12818062}}"
   ]
  },
  {
   "cell_type": "code",
   "execution_count": 31,
   "metadata": {},
   "outputs": [
    {
     "data": {
      "text/plain": [
       "{'MRR@1': 0.25, 'MRR@10': 0.25, 'MRR@100': 0.25}"
      ]
     },
     "execution_count": 31,
     "metadata": {},
     "output_type": "execute_result"
    }
   ],
   "source": [
    "# Create qrels (query relevance judgments)\n",
    "# Format: qrels[query_id][doc_id] = relevance_score\n",
    "# Relevance scores: 0 = not relevant, 1 = relevant\n",
    "qrels = {\n",
    "    \"query1\": {\n",
    "        \"doc1\": 1,    # Relevant - about Moscow being capital\n",
    "        \"doc2\": 0,    # Not relevant\n",
    "        \"doc3\": 0     # Not relevant\n",
    "    },\n",
    "    \"query2\": {\n",
    "        \"doc1\": 0,    # Not relevant  \n",
    "        \"doc2\": 1,    # Relevant - about Peter I founding St Petersburg\n",
    "        \"doc3\": 0     # Not relevant\n",
    "    },\n",
    "    \"query3\": {\n",
    "        \"doc1\": 0,    # Not relevant\n",
    "        \"doc2\": 0,    # Not relevant\n",
    "        \"doc3\": 1     # Relevant - about Lake Baikal being deepest\n",
    "    },\n",
    "    \"query4\": {\n",
    "        \"doc1\": 0,    # Not relevant\n",
    "        \"doc2\": 0,    # Partially relevant but not about lakes\n",
    "        \"doc3\": 0     # Not relevant\n",
    "    }\n",
    "}\n",
    "\n",
    "retriever.evaluate(qrels, results,k_values=[1,10,100])\n",
    "retriever.evaluate_custom(qrels, results, k_values=[1,10,100], metric=\"mrr\")"
   ]
  },
  {
   "cell_type": "code",
   "execution_count": 17,
   "metadata": {},
   "outputs": [
    {
     "name": "stdout",
     "output_type": "stream",
     "text": [
      "{\n",
      "  \"took\" : 1,\n",
      "  \"timed_out\" : false,\n",
      "  \"_shards\" : {\n",
      "    \"total\" : 1,\n",
      "    \"successful\" : 1,\n",
      "    \"skipped\" : 0,\n",
      "    \"failed\" : 0\n",
      "  },\n",
      "  \"hits\" : {\n",
      "    \"total\" : {\n",
      "      \"value\" : 3,\n",
      "      \"relation\" : \"eq\"\n",
      "    },\n",
      "    \"max_score\" : 1.0,\n",
      "    \"hits\" : [\n",
      "      {\n",
      "        \"_index\" : \"mmarco\",\n",
      "        \"_id\" : \"doc1\",\n",
      "        \"_score\" : 1.0,\n",
      "        \"_source\" : {\n",
      "          \"refresh\" : \"wait_for\",\n",
      "          \"text\" : \"Озеро Байкал отличается уникальной флорой. В озере обитает более 2500 видов растений, из которых 1000 являются эндемиками.\"\n",
      "        }\n",
      "      },\n",
      "      {\n",
      "        \"_index\" : \"mmarco\",\n",
      "        \"_id\" : \"doc2\",\n",
      "        \"_score\" : 1.0,\n",
      "        \"_source\" : {\n",
      "          \"refresh\" : \"wait_for\",\n",
      "          \"text\" : \"В водах Байкала обитает множество уникальных животных. Байкальская нерпа и голомянка являются эндемиками озера.\"\n",
      "        }\n",
      "      },\n",
      "      {\n",
      "        \"_index\" : \"mmarco\",\n",
      "        \"_id\" : \"doc3\",\n",
      "        \"_score\" : 1.0,\n",
      "        \"_source\" : {\n",
      "          \"refresh\" : \"wait_for\",\n",
      "          \"text\" : \"Байкал - самое глубокое озеро в мире. Его максимальная глубина достигает 1642 метров, а площадь поверхности составляет 31722 км².\"\n",
      "        }\n",
      "      }\n",
      "    ]\n",
      "  }\n",
      "}\n"
     ]
    }
   ],
   "source": [
    "!curl -XGET 'http://127.0.0.1:9200/mmarco/_search?pretty=true'"
   ]
  },
  {
   "cell_type": "code",
   "execution_count": 16,
   "metadata": {},
   "outputs": [
    {
     "name": "stdout",
     "output_type": "stream",
     "text": [
      "health status index         uuid                   pri rep docs.count docs.deleted store.size pri.store.size dataset.size\n",
      "yellow open   msmarco_index JArDdoPLSWehVkDHdXuqfQ   1   1          0            0       249b           249b         249b\n",
      "yellow open   mmarco        UFaX_ZhLR8CCfZlG5FSkLA   1   1          3            0      6.3kb          6.3kb        6.3kb\n"
     ]
    }
   ],
   "source": [
    "!curl -XGET 'http://127.0.0.1:9200/_cat/indices?v'\n"
   ]
  },
  {
   "cell_type": "code",
   "execution_count": 18,
   "metadata": {},
   "outputs": [
    {
     "name": "stdout",
     "output_type": "stream",
     "text": [
      "{\n",
      "  \"mmarco\" : {\n",
      "    \"mappings\" : {\n",
      "      \"properties\" : {\n",
      "        \"refresh\" : {\n",
      "          \"type\" : \"text\",\n",
      "          \"fields\" : {\n",
      "            \"keyword\" : {\n",
      "              \"type\" : \"keyword\",\n",
      "              \"ignore_above\" : 256\n",
      "            }\n",
      "          }\n",
      "        },\n",
      "        \"text\" : {\n",
      "          \"type\" : \"text\"\n",
      "        }\n",
      "      }\n",
      "    }\n",
      "  }\n",
      "}\n"
     ]
    }
   ],
   "source": [
    "!curl -XGET 'http://127.0.0.1:9200/mmarco/_mapping?pretty=true'\n"
   ]
  }
 ],
 "metadata": {
  "kernelspec": {
   "display_name": "Python 3",
   "language": "python",
   "name": "python3"
  },
  "language_info": {
   "codemirror_mode": {
    "name": "ipython",
    "version": 3
   },
   "file_extension": ".py",
   "mimetype": "text/x-python",
   "name": "python",
   "nbconvert_exporter": "python",
   "pygments_lexer": "ipython3",
   "version": "3.9.19"
  }
 },
 "nbformat": 4,
 "nbformat_minor": 2
}
