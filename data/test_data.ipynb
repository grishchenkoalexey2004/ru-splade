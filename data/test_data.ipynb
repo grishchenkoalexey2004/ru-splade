{
 "cells": [
  {
   "cell_type": "markdown",
   "metadata": {},
   "source": [
    "# Тестирование возможности последовательной загрузки датасета!\n"
   ]
  },
  {
   "cell_type": "code",
   "execution_count": 2,
   "metadata": {},
   "outputs": [
    {
     "name": "stderr",
     "output_type": "stream",
     "text": [
      "/home/lesha/mamba/envs/splade-v2/lib/python3.9/site-packages/tqdm/auto.py:21: TqdmWarning: IProgress not found. Please update jupyter and ipywidgets. See https://ipywidgets.readthedocs.io/en/stable/user_install.html\n",
      "  from .autonotebook import tqdm as notebook_tqdm\n"
     ]
    }
   ],
   "source": [
    "from datasets import load_from_disk\n",
    "\n",
    "\n",
    "\n",
    "\n"
   ]
  },
  {
   "cell_type": "code",
   "execution_count": 7,
   "metadata": {},
   "outputs": [],
   "source": [
    "triplet_dataset = load_from_disk(\"msmarco-ru/triplets\")\n"
   ]
  },
  {
   "cell_type": "code",
   "execution_count": 21,
   "metadata": {},
   "outputs": [
    {
     "data": {
      "text/plain": [
       "datasets.dataset_dict.DatasetDict"
      ]
     },
     "execution_count": 21,
     "metadata": {},
     "output_type": "execute_result"
    }
   ],
   "source": [
    "type(triplet_dataset)"
   ]
  },
  {
   "cell_type": "code",
   "execution_count": 8,
   "metadata": {},
   "outputs": [
    {
     "data": {
      "text/plain": [
       "39780811"
      ]
     },
     "execution_count": 8,
     "metadata": {},
     "output_type": "execute_result"
    }
   ],
   "source": [
    "len(triplet_dataset[\"train\"])"
   ]
  },
  {
   "cell_type": "code",
   "execution_count": 10,
   "metadata": {},
   "outputs": [],
   "source": [
    "triplet_dataset_iterable = iter(triplet_dataset[\"train\"])\n",
    "\n"
   ]
  },
  {
   "cell_type": "code",
   "execution_count": 14,
   "metadata": {},
   "outputs": [
    {
     "data": {
      "text/plain": [
       "datasets.arrow_dataset.Dataset"
      ]
     },
     "execution_count": 14,
     "metadata": {},
     "output_type": "execute_result"
    }
   ],
   "source": [
    "type(triplet_dataset[\"train\"])"
   ]
  },
  {
   "cell_type": "code",
   "execution_count": 18,
   "metadata": {},
   "outputs": [
    {
     "ename": "AttributeError",
     "evalue": "'Dataset' object has no attribute '__next__'",
     "output_type": "error",
     "traceback": [
      "\u001b[0;31m---------------------------------------------------------------------------\u001b[0m",
      "\u001b[0;31mAttributeError\u001b[0m                            Traceback (most recent call last)",
      "Cell \u001b[0;32mIn[18], line 1\u001b[0m\n\u001b[0;32m----> 1\u001b[0m \u001b[43mtriplet_dataset\u001b[49m\u001b[43m[\u001b[49m\u001b[38;5;124;43m\"\u001b[39;49m\u001b[38;5;124;43mtrain\u001b[39;49m\u001b[38;5;124;43m\"\u001b[39;49m\u001b[43m]\u001b[49m\u001b[38;5;241;43m.\u001b[39;49m\u001b[38;5;21;43m__next__\u001b[39;49m()\n",
      "\u001b[0;31mAttributeError\u001b[0m: 'Dataset' object has no attribute '__next__'"
     ]
    }
   ],
   "source": [
    "triplet_dataset[\"train\"].__next__()"
   ]
  },
  {
   "cell_type": "code",
   "execution_count": 45,
   "metadata": {},
   "outputs": [],
   "source": [
    "\n",
    "class DictDatasetWrapper:\n",
    "    def __init__(self,data_dir:str):\n",
    "        self.dataset = load_from_disk(data_dir)\n",
    "        self.dataset_iterable = None \n",
    "\n",
    "    def __iter__(self):\n",
    "        self.dataset_iterable = iter(self.dataset[\"train\"])\n",
    "        return self\n",
    "    \n",
    "    \n",
    "    def __next__(self):\n",
    "        new_line = next(self.dataset_iterable)\n",
    "        return (new_line[\"query\"].strip(),new_line[\"positive\"].strip(),new_line[\"negative\"].strip())\n",
    "    \n",
    "    def __len__(self):\n",
    "        return len(self.dataset[\"train\"])"
   ]
  },
  {
   "cell_type": "code",
   "execution_count": 46,
   "metadata": {},
   "outputs": [],
   "source": [
    "from torch.utils.data import IterableDataset\n",
    "import os\n",
    "from tqdm import tqdm\n",
    "from datasets import load_from_disk\n",
    "\n",
    "class PairsDatasetPreLoad(IterableDataset):\n",
    "    \"\"\"\n",
    "    dataset to iterate over a collection of pairs, format per line: q \\t d_pos \\t d_neg\n",
    "    we preload everything in memory at init\n",
    "    \"\"\"\n",
    "\n",
    "    def __init__(self, data_dir):\n",
    "        super(PairsDatasetPreLoad, self).__init__()\n",
    "\n",
    "        self.data_dir = data_dir\n",
    "        self.id_style = \"row_id\"\n",
    "        \n",
    "        self.dataset = DictDatasetWrapper(data_dir)\n",
    "\n",
    "        # количество экземпляров    \n",
    "        self.nb_ex = len(self.dataset)\n",
    "\n",
    "    def __iter__(self):\n",
    "        return iter(self.dataset)\n",
    "\n",
    "    # возврат количества экземплятров в файле\n",
    "    def __len__(self):\n",
    "        return self.nb_ex\n",
    "\n",
    "    # нет такого в iterableDataset\n",
    "    # def __getitem__(self, idx):\n",
    "    #     return self.data_dict[idx]"
   ]
  },
  {
   "cell_type": "code",
   "execution_count": 47,
   "metadata": {},
   "outputs": [],
   "source": [
    "dataset = PairsDatasetPreLoad(\"msmarco-ru/triplets\")"
   ]
  },
  {
   "cell_type": "code",
   "execution_count": 53,
   "metadata": {},
   "outputs": [],
   "source": [
    "import torch\n",
    "from torch.utils.data.dataloader import DataLoader\n",
    "from transformers import AutoTokenizer\n",
    "\n",
    "def rename_keys(d, prefix):\n",
    "    return {prefix + \"_\" + k: v for k, v in d.items()}\n",
    "\n",
    "class DataLoaderWrapper(DataLoader):\n",
    "    def __init__(self, tokenizer_type, max_length, **kwargs):\n",
    "        self.max_length = max_length\n",
    "        self.tokenizer = AutoTokenizer.from_pretrained(tokenizer_type)\n",
    "        super().__init__(collate_fn=self.collate_fn, **kwargs, pin_memory=True)\n",
    "\n",
    "    def collate_fn(self, batch):\n",
    "        raise NotImplementedError(\"must implement this method\")\n",
    "\n",
    "\n",
    "class SiamesePairsDataLoader(DataLoaderWrapper):\n",
    "    \"\"\"Siamese encoding (query and document independent)\n",
    "    train mode (triplets)\n",
    "    \"\"\"\n",
    "\n",
    "    def collate_fn(self, batch):\n",
    "        \"\"\"\n",
    "        batch is a list of tuples, each tuple has 3 (text) items (q, d_pos, d_neg)\n",
    "        \"\"\"\n",
    "        #q - кортеж запросов \n",
    "        #d_pos - кортеж d_pos\n",
    "        #d_neg - кортеж d_neg\n",
    "        q, d_pos, d_neg = zip(*batch)\n",
    "        # обработка + обрезка + padding (нужен для берта!)\n",
    "        q = self.tokenizer(list(q),\n",
    "                           add_special_tokens=True,\n",
    "                           padding=\"longest\",  # pad to max sequence length in batch\n",
    "                           truncation=\"longest_first\",  # truncates to self.max_length\n",
    "                           max_length=self.max_length,\n",
    "                           return_attention_mask=True)\n",
    "        \n",
    "        d_pos = self.tokenizer(list(d_pos),\n",
    "                               add_special_tokens=True,\n",
    "                               padding=\"longest\",  # pad to max sequence length in batch\n",
    "                               truncation=\"longest_first\",  # truncates to self.max_length\n",
    "                               max_length=self.max_length,\n",
    "                               return_attention_mask=True)\n",
    "        \n",
    "        d_neg = self.tokenizer(list(d_neg),\n",
    "                               add_special_tokens=True,\n",
    "                               padding=\"longest\",  # pad to max sequence length in batch\n",
    "                               truncation=\"longest_first\",  # truncates to self.max_length\n",
    "                               max_length=self.max_length,\n",
    "                               return_attention_mask=True)\n",
    "        \n",
    "        # переименование ключей (добавление префикса ко всему, что возвращает токенизатор)\n",
    "        sample = {**rename_keys(q, \"q\"), **rename_keys(d_pos, \"pos\"), **rename_keys(d_neg, \"neg\")} # множество словарей\n",
    "        return {k: torch.tensor(v) for k, v in sample.items()}"
   ]
  },
  {
   "cell_type": "code",
   "execution_count": 67,
   "metadata": {},
   "outputs": [],
   "source": [
    "dataloader = SiamesePairsDataLoader(dataset=dataset, batch_size=16,\n",
    "                                                     shuffle=False,\n",
    "                                                     #! num_workers must be 1!\n",
    "                                                     num_workers=1,\n",
    "                                                     tokenizer_type=\"ai-forever/ruBert-base\",\n",
    "                                                     max_length=256, drop_last=True)"
   ]
  },
  {
   "cell_type": "code",
   "execution_count": 75,
   "metadata": {},
   "outputs": [],
   "source": [
    "dataloader_iter = iter(dataloader)"
   ]
  },
  {
   "cell_type": "code",
   "execution_count": 78,
   "metadata": {},
   "outputs": [
    {
     "data": {
      "text/plain": [
       "{'q_input_ids': tensor([[   101,    785,   2602,  26993,  11908,  12866,    378,  40052,    110,\n",
       "           55980,   1754,    676,    102,      0],\n",
       "         [   101,   4277,  10640,  78837,    102,      0,      0,      0,      0,\n",
       "               0,      0,      0,      0,      0],\n",
       "         [   101,    693,    113,    776,    377,  13951,    376,    102,      0,\n",
       "               0,      0,      0,      0,      0],\n",
       "         [   101,    693,   2432,  36298,  32207,   1914,  27401,    102,      0,\n",
       "               0,      0,      0,      0,      0],\n",
       "         [   101,   1079,    797, 118264,  42699,   5917,  12495,  68542,    102,\n",
       "               0,      0,      0,      0,      0],\n",
       "         [   101,    693,   9119,    118,   1024,  41801,   1415,  73735,  13648,\n",
       "             107,  12560,    113,  27615,    102],\n",
       "         [   101,   1079,    797,    118,   1721,  24242,   9647,  96685,    110,\n",
       "           14238,  23085,  59145,    102,      0],\n",
       "         [   101,  50690,   7580,    133,  31742,    803, 104753,  11037,    161,\n",
       "             102,      0,      0,      0,      0],\n",
       "         [   101,  36562,   3382,  15693,  14211,  16353,  33901,    113,   1157,\n",
       "             161,    102,      0,      0,      0],\n",
       "         [   101,   4349,   1012,  14626,    934,  51060,  23099,    801,    102,\n",
       "               0,      0,      0,      0,      0],\n",
       "         [   101,   8730,  18326,  31498,    748,  64275,    102,      0,      0,\n",
       "               0,      0,      0,      0,      0],\n",
       "         [   101,  51965,   3513,  17737,    785,    102,      0,      0,      0,\n",
       "               0,      0,      0,      0,      0],\n",
       "         [   101,   1309,  27720,   6039, 107025,  10239,    676,  48283,    441,\n",
       "             102,      0,      0,      0,      0],\n",
       "         [   101,    693,   9119,  18339,  21565,   3212, 108413,  25028,    883,\n",
       "             102,      0,      0,      0,      0],\n",
       "         [   101,   3455,   5200,    110,  11392,   7708,    113,  23508,  34207,\n",
       "           27075,    376,    378,    102,      0],\n",
       "         [   101,  94681,    378,   3245,  34957,  43233,  31335,    161,    102,\n",
       "               0,      0,      0,      0,      0]]),\n",
       " 'q_token_type_ids': tensor([[0, 0, 0, 0, 0, 0, 0, 0, 0, 0, 0, 0, 0, 0],\n",
       "         [0, 0, 0, 0, 0, 0, 0, 0, 0, 0, 0, 0, 0, 0],\n",
       "         [0, 0, 0, 0, 0, 0, 0, 0, 0, 0, 0, 0, 0, 0],\n",
       "         [0, 0, 0, 0, 0, 0, 0, 0, 0, 0, 0, 0, 0, 0],\n",
       "         [0, 0, 0, 0, 0, 0, 0, 0, 0, 0, 0, 0, 0, 0],\n",
       "         [0, 0, 0, 0, 0, 0, 0, 0, 0, 0, 0, 0, 0, 0],\n",
       "         [0, 0, 0, 0, 0, 0, 0, 0, 0, 0, 0, 0, 0, 0],\n",
       "         [0, 0, 0, 0, 0, 0, 0, 0, 0, 0, 0, 0, 0, 0],\n",
       "         [0, 0, 0, 0, 0, 0, 0, 0, 0, 0, 0, 0, 0, 0],\n",
       "         [0, 0, 0, 0, 0, 0, 0, 0, 0, 0, 0, 0, 0, 0],\n",
       "         [0, 0, 0, 0, 0, 0, 0, 0, 0, 0, 0, 0, 0, 0],\n",
       "         [0, 0, 0, 0, 0, 0, 0, 0, 0, 0, 0, 0, 0, 0],\n",
       "         [0, 0, 0, 0, 0, 0, 0, 0, 0, 0, 0, 0, 0, 0],\n",
       "         [0, 0, 0, 0, 0, 0, 0, 0, 0, 0, 0, 0, 0, 0],\n",
       "         [0, 0, 0, 0, 0, 0, 0, 0, 0, 0, 0, 0, 0, 0],\n",
       "         [0, 0, 0, 0, 0, 0, 0, 0, 0, 0, 0, 0, 0, 0]]),\n",
       " 'q_attention_mask': tensor([[1, 1, 1, 1, 1, 1, 1, 1, 1, 1, 1, 1, 1, 0],\n",
       "         [1, 1, 1, 1, 1, 0, 0, 0, 0, 0, 0, 0, 0, 0],\n",
       "         [1, 1, 1, 1, 1, 1, 1, 1, 0, 0, 0, 0, 0, 0],\n",
       "         [1, 1, 1, 1, 1, 1, 1, 1, 0, 0, 0, 0, 0, 0],\n",
       "         [1, 1, 1, 1, 1, 1, 1, 1, 1, 0, 0, 0, 0, 0],\n",
       "         [1, 1, 1, 1, 1, 1, 1, 1, 1, 1, 1, 1, 1, 1],\n",
       "         [1, 1, 1, 1, 1, 1, 1, 1, 1, 1, 1, 1, 1, 0],\n",
       "         [1, 1, 1, 1, 1, 1, 1, 1, 1, 1, 0, 0, 0, 0],\n",
       "         [1, 1, 1, 1, 1, 1, 1, 1, 1, 1, 1, 0, 0, 0],\n",
       "         [1, 1, 1, 1, 1, 1, 1, 1, 1, 0, 0, 0, 0, 0],\n",
       "         [1, 1, 1, 1, 1, 1, 1, 0, 0, 0, 0, 0, 0, 0],\n",
       "         [1, 1, 1, 1, 1, 1, 0, 0, 0, 0, 0, 0, 0, 0],\n",
       "         [1, 1, 1, 1, 1, 1, 1, 1, 1, 1, 0, 0, 0, 0],\n",
       "         [1, 1, 1, 1, 1, 1, 1, 1, 1, 1, 0, 0, 0, 0],\n",
       "         [1, 1, 1, 1, 1, 1, 1, 1, 1, 1, 1, 1, 1, 0],\n",
       "         [1, 1, 1, 1, 1, 1, 1, 1, 1, 0, 0, 0, 0, 0]]),\n",
       " 'pos_input_ids': tensor([[   101,  11270,    118,  ...,      0,      0,      0],\n",
       "         [   101,   4537, 117574,  ...,      0,      0,      0],\n",
       "         [   101,  83028,    212,  ...,      0,      0,      0],\n",
       "         ...,\n",
       "         [   101,  36466,   8113,  ...,      0,      0,      0],\n",
       "         [   101,  27599,  34207,  ...,      0,      0,      0],\n",
       "         [   101,  43233,  31335,  ...,      0,      0,      0]]),\n",
       " 'pos_token_type_ids': tensor([[0, 0, 0,  ..., 0, 0, 0],\n",
       "         [0, 0, 0,  ..., 0, 0, 0],\n",
       "         [0, 0, 0,  ..., 0, 0, 0],\n",
       "         ...,\n",
       "         [0, 0, 0,  ..., 0, 0, 0],\n",
       "         [0, 0, 0,  ..., 0, 0, 0],\n",
       "         [0, 0, 0,  ..., 0, 0, 0]]),\n",
       " 'pos_attention_mask': tensor([[1, 1, 1,  ..., 0, 0, 0],\n",
       "         [1, 1, 1,  ..., 0, 0, 0],\n",
       "         [1, 1, 1,  ..., 0, 0, 0],\n",
       "         ...,\n",
       "         [1, 1, 1,  ..., 0, 0, 0],\n",
       "         [1, 1, 1,  ..., 0, 0, 0],\n",
       "         [1, 1, 1,  ..., 0, 0, 0]]),\n",
       " 'neg_input_ids': tensor([[   101,  11651,    126,  ...,      0,      0,      0],\n",
       "         [   101,   4537, 117574,  ...,      0,      0,      0],\n",
       "         [   101,   2224,   1807,  ...,      0,      0,      0],\n",
       "         ...,\n",
       "         [   101,   1081,   7157,  ...,      0,      0,      0],\n",
       "         [   101,  27599,  34207,  ...,      0,      0,      0],\n",
       "         [   101,  45570,   1368,  ...,      0,      0,      0]]),\n",
       " 'neg_token_type_ids': tensor([[0, 0, 0,  ..., 0, 0, 0],\n",
       "         [0, 0, 0,  ..., 0, 0, 0],\n",
       "         [0, 0, 0,  ..., 0, 0, 0],\n",
       "         ...,\n",
       "         [0, 0, 0,  ..., 0, 0, 0],\n",
       "         [0, 0, 0,  ..., 0, 0, 0],\n",
       "         [0, 0, 0,  ..., 0, 0, 0]]),\n",
       " 'neg_attention_mask': tensor([[1, 1, 1,  ..., 0, 0, 0],\n",
       "         [1, 1, 1,  ..., 0, 0, 0],\n",
       "         [1, 1, 1,  ..., 0, 0, 0],\n",
       "         ...,\n",
       "         [1, 1, 1,  ..., 0, 0, 0],\n",
       "         [1, 1, 1,  ..., 0, 0, 0],\n",
       "         [1, 1, 1,  ..., 0, 0, 0]])}"
      ]
     },
     "execution_count": 78,
     "metadata": {},
     "output_type": "execute_result"
    }
   ],
   "source": [
    "next(dataloader_iter)"
   ]
  }
 ],
 "metadata": {
  "kernelspec": {
   "display_name": "Python 3",
   "language": "python",
   "name": "python3"
  },
  "language_info": {
   "codemirror_mode": {
    "name": "ipython",
    "version": 3
   },
   "file_extension": ".py",
   "mimetype": "text/x-python",
   "name": "python",
   "nbconvert_exporter": "python",
   "pygments_lexer": "ipython3",
   "version": "3.9.19"
  }
 },
 "nbformat": 4,
 "nbformat_minor": 2
}
